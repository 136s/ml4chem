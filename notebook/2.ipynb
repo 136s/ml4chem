{
 "cells": [
  {
   "cell_type": "markdown",
   "metadata": {},
   "source": [
    "[REINVENT4 の環境](https://github.com/136s/REINVENT4/blob/6f10c90112b5fb3ccccc765c0fe1d085de3bfeb4/requirements-macOS-conda.yml) で作成した環境で実行"
   ]
  },
  {
   "cell_type": "code",
   "execution_count": 1,
   "metadata": {},
   "outputs": [],
   "source": [
    "# P.33 リスト2.1: 2/smiles.py\n",
    "\n",
    "from rdkit import Chem\n",
    "from rdkit.Chem import Draw\n",
    "\n",
    "mol = Chem.MolFromSmiles(\"CN1C=NC2=C1C(=O)N(C(=O)N2C)C\")\n",
    "Draw.MolToFile(mol, \"caffeine.svg\")"
   ]
  },
  {
   "cell_type": "code",
   "execution_count": 2,
   "metadata": {},
   "outputs": [],
   "source": [
    "# P.43 リスト2.2: 2/test_selfies.py\n",
    "# skip"
   ]
  },
  {
   "cell_type": "code",
   "execution_count": 3,
   "metadata": {},
   "outputs": [
    {
     "name": "stdout",
     "output_type": "stream",
     "text": [
      "logp = -1.0293\n"
     ]
    }
   ],
   "source": [
    "# P.45 リスト2.4: 2/logp.py\n",
    "\n",
    "from rdkit import Chem\n",
    "from rdkit.Chem import Descriptors\n",
    "\n",
    "mol = Chem.MolFromSmiles(\"CN1C=NC2=C1C(=O)N(C(=O)N2C)C\")\n",
    "logp = Descriptors.MolLogP(mol)\n",
    "print(\"logp = {}\".format(logp))"
   ]
  },
  {
   "cell_type": "markdown",
   "metadata": {},
   "source": [
    "# P.46 Morgan フィンガープリント\n",
    "\n",
    "[文献 57](https://doi.org/10.1021/ci100050t) では、Daylight atomic invariants rule で原子をハッシュ化している。\n",
    "この規則は以下の 6 つ性質を 32 ビット整数にハッシュ化している。\n",
    "\n",
    "- 水素以外の近傍原子の数\n",
    "- 価数から接続された水素の数を引いた値（言い換えれば、水素への結合を無視した総結合次数）\n",
    "- 原子番号\n",
    "- 原子質量\n",
    "- 原子電荷\n",
    "- 結合している水素の数（暗黙的および明示的の両方）\n",
    "\n",
    "ECFP では「原子が少なくとも1つの環の一部であるかどうか」が追加されることがある。"
   ]
  },
  {
   "cell_type": "code",
   "execution_count": 4,
   "metadata": {},
   "outputs": [
    {
     "name": "stdout",
     "output_type": "stream",
     "text": [
      "fp_tensor = tensor([0, 0, 0,  ..., 0, 0, 0])\n",
      "shape = torch.Size([2048])\n",
      "non-zero indices: tensor([  33,  314,  378,  400,  463,  504,  564,  650,  771,  932,  935, 1024,\n",
      "        1057, 1145, 1203, 1258, 1307, 1354, 1380, 1409, 1440, 1452, 1517, 1696,\n",
      "        1873])\n"
     ]
    },
    {
     "name": "stderr",
     "output_type": "stream",
     "text": [
      "[23:35:18] DEPRECATION WARNING: please use MorganGenerator\n"
     ]
    }
   ],
   "source": [
    "# P.48 リスト2.5: 2/fingerprint.py\n",
    "\n",
    "import torch\n",
    "from rdkit import Chem\n",
    "from rdkit.Chem.rdMolDescriptors import GetMorganFingerprintAsBitVect\n",
    "\n",
    "mol = Chem.MolFromSmiles(\"CN1C=NC2=C1C(=O)N(C(=O)N2C)C\")\n",
    "fp = GetMorganFingerprintAsBitVect(mol, radius=2, nBits=2**11)\n",
    "# rdkit 特有のデータ構造なので変換\n",
    "fp_tensor = torch.tensor(fp)\n",
    "fp_idx_tensor = torch.tensor(fp.GetOnBits())\n",
    "print(\"fp_tensor = {}\".format(fp_tensor))\n",
    "print(\"shape = {}\".format(fp_tensor.shape))  # fp.GetNumBits() と同じ\n",
    "print(\"non-zero indices: {}\".format(fp_idx_tensor))"
   ]
  },
  {
   "cell_type": "code",
   "execution_count": 5,
   "metadata": {},
   "outputs": [
    {
     "name": "stdout",
     "output_type": "stream",
     "text": [
      "Tanimoto similarity: 0.45714285714285713\n"
     ]
    },
    {
     "name": "stderr",
     "output_type": "stream",
     "text": [
      "[23:35:18] DEPRECATION WARNING: please use MorganGenerator\n",
      "[23:35:18] DEPRECATION WARNING: please use MorganGenerator\n"
     ]
    }
   ],
   "source": [
    "# P.50 リスト2.7: 2/tanimoto.py\n",
    "\n",
    "from rdkit import Chem\n",
    "from rdkit.Chem.rdMolDescriptors import GetMorganFingerprintAsBitVect\n",
    "from rdkit import DataStructs\n",
    "\n",
    "caffeine = Chem.MolFromSmiles(\"CN1C=NC2=C1C(=O)N(C(=O)N2C)C\")\n",
    "theophylline = Chem.MolFromSmiles(\"Cn1c2c(c(=O)n(c1=O)C)[nH]cn2\")\n",
    "fp_c = GetMorganFingerprintAsBitVect(caffeine, radius=2, nBits=2**11)\n",
    "fp_t = GetMorganFingerprintAsBitVect(theophylline, radius=2, nBits=2**11)\n",
    "print(\"Tanimoto similarity: {}\".format(DataStructs.FingerprintSimilarity(fp_c, fp_t)))"
   ]
  },
  {
   "cell_type": "code",
   "execution_count": 6,
   "metadata": {},
   "outputs": [
    {
     "data": {
      "text/plain": [
       "0.45714285714285713"
      ]
     },
     "execution_count": 6,
     "metadata": {},
     "output_type": "execute_result"
    }
   ],
   "source": [
    "# 谷本類似度の定義から計算\n",
    "\n",
    "len(set(fp_c.GetOnBits()) & set(fp_t.GetOnBits())) / len(set(fp_c.GetOnBits()) | set(fp_t.GetOnBits()))"
   ]
  }
 ],
 "metadata": {
  "kernelspec": {
   "display_name": "reinvent4",
   "language": "python",
   "name": "python3"
  },
  "language_info": {
   "codemirror_mode": {
    "name": "ipython",
    "version": 3
   },
   "file_extension": ".py",
   "mimetype": "text/x-python",
   "name": "python",
   "nbconvert_exporter": "python",
   "pygments_lexer": "ipython3",
   "version": "3.11.9"
  }
 },
 "nbformat": 4,
 "nbformat_minor": 2
}
